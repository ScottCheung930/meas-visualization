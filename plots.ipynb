{
 "cells": [
  {
   "cell_type": "code",
   "execution_count": 1,
   "id": "e7500ddb-db8b-40db-a2d6-9c37ea8a5d1a",
   "metadata": {},
   "outputs": [],
   "source": [
    "import sys\n",
    "sys.path.append('../edaf')"
   ]
  },
  {
   "cell_type": "code",
   "execution_count": 2,
   "id": "9dd5c3a8-4348-4977-a032-00aa0458f6f9",
   "metadata": {},
   "outputs": [],
   "source": [
    "from plot_helpers import *\n",
    "from decomp import *\n",
    "from loguru import logger\n",
    "import os, sys, gzip, json\n",
    "import sqlite3\n",
    "import pandas as pd\n",
    "from edaf.core.uplink.preprocess import preprocess_ul\n",
    "from edaf.core.uplink.analyze_packet import ULPacketAnalyzer\n",
    "from edaf.core.uplink.analyze_channel import ULChannelAnalyzer\n",
    "from edaf.core.uplink.analyze_scheduling import ULSchedulingAnalyzer\n",
    "import matplotlib.pyplot as plt\n",
    "import matplotlib.patches as patches\n",
    "\n",
    "from pathlib import Path\n",
    "import ijson\n",
    "\n",
    "%load_ext autoreload\n",
    "%autoreload 2"
   ]
  },
  {
   "cell_type": "code",
   "execution_count": 3,
   "id": "01af6aae-6185-458a-8760-04e410b4acff",
   "metadata": {},
   "outputs": [
    {
     "data": {
      "text/plain": [
       "16"
      ]
     },
     "execution_count": 3,
     "metadata": {},
     "output_type": "execute_result"
    }
   ],
   "source": [
    "# Remove default handler\n",
    "logger.remove()\n",
    "# Add a new handler with level WARNING\n",
    "logger.add(sys.stdout, level=\"ERROR\")"
   ]
  },
  {
   "cell_type": "code",
   "execution_count": 11,
   "id": "e81ac8d8-186e-4ca2-a30d-d9cfd90f90fd",
   "metadata": {},
   "outputs": [],
   "source": [
    "MEAS_DIR = '../meas-oai5g/'\n",
    "MEAS_LABEL = 's18'\n",
    "DB_FILE = MEAS_DIR+MEAS_LABEL+'/'+'res_db.sql'\n",
    "PLOTS_DIR = './plots/'+MEAS_LABEL+'/'"
   ]
  },
  {
   "cell_type": "code",
   "execution_count": 7,
   "id": "1a054d13-3546-4d56-a3ab-4539cbdebfa2",
   "metadata": {},
   "outputs": [],
   "source": [
    "analyzer = ULPacketAnalyzer(DB_FILE)\n",
    "uids_arr = range(analyzer.first_ueipid, analyzer.last_ueipid+1)\n",
    "packets = analyzer.figure_packettx_from_ueipids(uids_arr)"
   ]
  },
  {
   "cell_type": "code",
   "execution_count": 9,
   "id": "57c38db5-8691-42eb-9646-9753021fb01d",
   "metadata": {},
   "outputs": [],
   "source": [
    "send_ts = analyzer.nlmt_df['timestamps.client.send.wall'].to_numpy()\n",
    "send_ts = (send_ts)/1e6\n",
    "receive_ts = analyzer.nlmt_df['timestamps.server.receive.wall'].to_numpy()\n",
    "receive_ts = (receive_ts)/1e6\n",
    "idt = (send_ts[1:-1]-send_ts[0:-2])\n",
    "e2e_delays = receive_ts-send_ts\n",
    "ran_delays = np.array(list({packet['id']: get_ran_delay(packet) for packet in packets if get_ran_delay(packet)!=None}.values()))\n",
    "queueing_delays = np.array(list({packet['id']: get_queueing_delay(packet) for packet in packets if get_queueing_delay(packet)!=None}.values()))\n",
    "retx_delays = np.array(list({packet['id']: get_retx_delay(packet) for packet in packets if get_retx_delay(packet)!=None}.values()))"
   ]
  },
  {
   "cell_type": "code",
   "execution_count": null,
   "id": "511fbf93-72e6-4972-ae6c-af4886304e64",
   "metadata": {},
   "outputs": [],
   "source": [
    "fig, ax  = plot_ccdf(e2e_delays[100:-100], '', figsize=(8, 5))\n",
    "plt.savefig(f\"{PLOTS_DIR}e2e_delays_ccdf_plot.png\", dpi=300, bbox_inches='tight')  # You can change the file format (e.g., .pdf)\n",
    "plt.show()\n",
    "\n",
    "fig, ax  = plot_ccdf(ran_delays[100:-100],  '',, figsize=(8, 5))\n",
    "plt.savefig(f\"{PLOTS_DIR}ran_delays_ccdf_plot.png\", dpi=300, bbox_inches='tight')  # You can change the file format (e.g., .pdf)\n",
    "plt.show()\n",
    "\n",
    "fig, ax  = plot_ccdf(queueing_delays[100:-100],  '',, figsize=(8, 5))\n",
    "plt.savefig(f\"{PLOTS_DIR}queueing_delays_ccdf_plot.png\", dpi=300, bbox_inches='tight')  # You can change the file format (e.g., .pdf)\n",
    "plt.show()\n",
    "\n",
    "fig, ax  = plot_ccdf(retx_delays[100:-100],  '',, figsize=(8, 5))\n",
    "plt.savefig(f\"{PLOTS_DIR}retx_delays_ccdf_plot.png\", dpi=300, bbox_inches='tight')  # You can change the file format (e.g., .pdf)\n",
    "plt.show()"
   ]
  },
  {
   "cell_type": "code",
   "execution_count": null,
   "id": "48e01b34-80e5-47d5-b586-c700540d31d2",
   "metadata": {},
   "outputs": [],
   "source": []
  },
  {
   "cell_type": "code",
   "execution_count": null,
   "id": "d6ebc252-d393-427b-bcc2-72c9592f4c98",
   "metadata": {},
   "outputs": [],
   "source": []
  }
 ],
 "metadata": {
  "kernelspec": {
   "display_name": "Python 3 (ipykernel)",
   "language": "python",
   "name": "python3"
  },
  "language_info": {
   "codemirror_mode": {
    "name": "ipython",
    "version": 3
   },
   "file_extension": ".py",
   "mimetype": "text/x-python",
   "name": "python",
   "nbconvert_exporter": "python",
   "pygments_lexer": "ipython3",
   "version": "3.10.12"
  }
 },
 "nbformat": 4,
 "nbformat_minor": 5
}
