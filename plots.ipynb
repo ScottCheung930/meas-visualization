{
 "cells": [
  {
   "cell_type": "code",
   "execution_count": 1,
   "id": "e7500ddb-db8b-40db-a2d6-9c37ea8a5d1a",
   "metadata": {},
   "outputs": [],
   "source": [
    "import sys\n",
    "sys.path.append('../edaf')"
   ]
  },
  {
   "cell_type": "code",
   "execution_count": 2,
   "id": "9dd5c3a8-4348-4977-a032-00aa0458f6f9",
   "metadata": {},
   "outputs": [],
   "source": [
    "from plot_helpers import *\n",
    "from decomp import *\n",
    "from loguru import logger\n",
    "import os, sys, gzip, json\n",
    "import sqlite3\n",
    "import pandas as pd\n",
    "from edaf.core.uplink.preprocess import preprocess_ul\n",
    "from edaf.core.uplink.analyze_packet import ULPacketAnalyzer\n",
    "from edaf.core.uplink.analyze_channel import ULChannelAnalyzer\n",
    "from edaf.core.uplink.analyze_scheduling import ULSchedulingAnalyzer\n",
    "import matplotlib.pyplot as plt\n",
    "import matplotlib.patches as patches\n",
    "\n",
    "from pathlib import Path\n",
    "import ijson\n",
    "\n",
    "%load_ext autoreload\n",
    "%autoreload 2"
   ]
  },
  {
   "cell_type": "code",
   "execution_count": 3,
   "id": "01af6aae-6185-458a-8760-04e410b4acff",
   "metadata": {},
   "outputs": [
    {
     "data": {
      "text/plain": [
       "16"
      ]
     },
     "execution_count": 3,
     "metadata": {},
     "output_type": "execute_result"
    }
   ],
   "source": [
    "# Remove default handler\n",
    "logger.remove()\n",
    "# Add a new handler with level WARNING\n",
    "logger.add(sys.stdout, level=\"ERROR\")"
   ]
  },
  {
   "cell_type": "code",
   "execution_count": 4,
   "id": "e81ac8d8-186e-4ca2-a30d-d9cfd90f90fd",
   "metadata": {},
   "outputs": [],
   "source": [
    "MEAS_DIR = '../meas-oai5g/s18/'\n",
    "DB_FILE = MEAS_DIR+'res_db.sql'\n",
    "PLOTS_DIR = './plots/'"
   ]
  },
  {
   "cell_type": "code",
   "execution_count": 5,
   "id": "1a054d13-3546-4d56-a3ab-4539cbdebfa2",
   "metadata": {},
   "outputs": [],
   "source": [
    "analyzer = ULPacketAnalyzer(DB_FILE)\n",
    "uids_arr = range(analyzer.first_ueipid, analyzer.last_ueipid+1)\n",
    "packets = analyzer.figure_packettx_from_ueipids(uids_arr)"
   ]
  },
  {
   "cell_type": "code",
   "execution_count": 18,
   "id": "57c38db5-8691-42eb-9646-9753021fb01d",
   "metadata": {},
   "outputs": [],
   "source": [
    "send_ts = analyzer.nlmt_df['timestamps.client.send.wall'].to_numpy()\n",
    "send_ts = (send_ts)/1e6\n",
    "receive_ts = analyzer.nlmt_df['timestamps.server.receive.wall'].to_numpy()\n",
    "receive_ts = (receive_ts)/1e6\n",
    "idt = (send_ts[1:-1]-send_ts[0:-2])\n",
    "e2e_delays = receive_ts-send_ts\n",
    "ran_delays = {packet['id']: get_ran_delay(packet) for packet in packets if get_ran_delay(packet)!=None}.values()\n",
    "queueing_delays = {packet['id']: get_queueing_delay(packet) for packet in packets if get_queueing_delay(packet)!=None}.values()\n",
    "retx_delays = {packet['id']: get_retx_delay(packet) for packet in packets if get_retx_delay(packet)!=None}.values()"
   ]
  },
  {
   "cell_type": "raw",
   "id": "58b87aa8-13fc-43e9-96f7-b0ef8e2540b1",
   "metadata": {},
   "source": [
    "print(ran_delays)"
   ]
  },
  {
   "cell_type": "code",
   "execution_count": 19,
   "id": "511fbf93-72e6-4972-ae6c-af4886304e64",
   "metadata": {},
   "outputs": [
    {
     "ename": "TypeError",
     "evalue": "'dict_values' object is not subscriptable",
     "output_type": "error",
     "traceback": [
      "\u001b[0;31m---------------------------------------------------------------------------\u001b[0m",
      "\u001b[0;31mTypeError\u001b[0m                                 Traceback (most recent call last)",
      "Cell \u001b[0;32mIn[19], line 1\u001b[0m\n\u001b[0;32m----> 1\u001b[0m fig, ax  \u001b[38;5;241m=\u001b[39m plot_ccdf(\u001b[43mran_delays\u001b[49m\u001b[43m[\u001b[49m\u001b[38;5;241;43m100\u001b[39;49m\u001b[43m:\u001b[49m\u001b[38;5;241;43m-\u001b[39;49m\u001b[38;5;241;43m100\u001b[39;49m\u001b[43m]\u001b[49m, \u001b[38;5;124m'\u001b[39m\u001b[38;5;124ms18\u001b[39m\u001b[38;5;124m'\u001b[39m, figsize\u001b[38;5;241m=\u001b[39m(\u001b[38;5;241m10\u001b[39m, \u001b[38;5;241m6\u001b[39m))\n\u001b[1;32m      2\u001b[0m plt\u001b[38;5;241m.\u001b[39msavefig(PLOTS_DIR\u001b[38;5;241m+\u001b[39m\u001b[38;5;124m\"\u001b[39m\u001b[38;5;124mran_delay_ccdf_plot.png\u001b[39m\u001b[38;5;124m\"\u001b[39m, dpi\u001b[38;5;241m=\u001b[39m\u001b[38;5;241m300\u001b[39m, bbox_inches\u001b[38;5;241m=\u001b[39m\u001b[38;5;124m'\u001b[39m\u001b[38;5;124mtight\u001b[39m\u001b[38;5;124m'\u001b[39m)  \u001b[38;5;66;03m# You can change the file format (e.g., .pdf)\u001b[39;00m\n\u001b[1;32m      3\u001b[0m plt\u001b[38;5;241m.\u001b[39mshow()\n",
      "\u001b[0;31mTypeError\u001b[0m: 'dict_values' object is not subscriptable"
     ]
    }
   ],
   "source": [
    "fig, ax  = plot_ccdf(ran_delays[100:-100], 's18', figsize=(10, 6))\n",
    "plt.savefig(PLOTS_DIR+\"ran_delay_ccdf_plot.png\", dpi=300, bbox_inches='tight')  # You can change the file format (e.g., .pdf)\n",
    "plt.show()"
   ]
  },
  {
   "cell_type": "code",
   "execution_count": null,
   "id": "6e82617a-7a9c-44f5-a0f5-ad305fca1897",
   "metadata": {},
   "outputs": [],
   "source": [
    "# Create a figure and axis\n",
    "fig, ax = plt.subplots(figsize=(10, 6))\n",
    "labels = ['mcsi20', 'mcsi25']\n",
    "\n",
    "# Sort the delays in ascending order\n",
    "for ind, DB_FILE in enumerate(DB_FILES):\n",
    "    sorted_delays = np.sort(list(retx_delays[ind].values())[100:-100])\n",
    "    ccdf = 1.0 - np.arange(1, len(sorted_delays) + 1) / len(sorted_delays)\n",
    "\n",
    "    # Plot CCDF\n",
    "    ax.plot(sorted_delays, ccdf, linestyle='-', linewidth=4, label=labels[ind])\n",
    "    \n",
    "    # Set the y-axis to a logarithmic scale\n",
    "    ax.set_yscale('log')\n",
    "    \n",
    "    # Label the axes\n",
    "    ax.set_xlabel('Delay (ms)')\n",
    "    ax.set_ylabel('Probability')\n",
    "    #ax.set_xlim(15,30)\n",
    "    # Add title\n",
    "    \n",
    "    # Add grid\n",
    "    ax.grid(True)\n",
    "ax.legend()\n",
    "plt.savefig(\"ran_ccdf_plot.png\", dpi=300, bbox_inches='tight')  # You can change the file format (e.g., .pdf)"
   ]
  }
 ],
 "metadata": {
  "kernelspec": {
   "display_name": "Python 3 (ipykernel)",
   "language": "python",
   "name": "python3"
  },
  "language_info": {
   "codemirror_mode": {
    "name": "ipython",
    "version": 3
   },
   "file_extension": ".py",
   "mimetype": "text/x-python",
   "name": "python",
   "nbconvert_exporter": "python",
   "pygments_lexer": "ipython3",
   "version": "3.10.12"
  }
 },
 "nbformat": 4,
 "nbformat_minor": 5
}
